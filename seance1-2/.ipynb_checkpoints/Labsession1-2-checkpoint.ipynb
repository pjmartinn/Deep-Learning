{
 "cells": [
  {
   "cell_type": "markdown",
   "metadata": {},
   "source": [
    "<div id=\"image\">\n",
    "<img src=\"https://www.imt-atlantique.fr/sites/default/files/logo_mt_0_0.png\" WIDTH=280 HEIGHT=280>\n",
    "</div>\n",
    "<div id=\"subject\">\n",
    "<CENTER>\n",
    "</br>\n",
    "<font size=\"5\"></br> UE Deep Learning: Lab sessions 1 and 2</font></br></div>\n",
    "</CENTER>\n",
    "<CENTER>\n",
    "<font size=\"3\"></br>15th and 19th of Octobre 2018</font></br></div>\n",
    "</CENTER>\n",
    "<CENTER>\n",
    "<span style=\"color:blue\">pierre.tandeo@imt-atlantique.fr</span>\n",
    "</CENTER>\n",
    "<CENTER>\n",
    "<span style=\"color:blue\">pierre-henri.conze@imt-atlantique.fr</span>\n",
    "</CENTER>\n",
    "<CENTER>\n",
    "<span style=\"color:blue\">lucas.drumetz@imt-atlantique.fr</span>\n",
    "</CENTER>\n",
    "</div>"
   ]
  },
  {
   "cell_type": "markdown",
   "metadata": {},
   "source": [
    "The aim of this practice is to explain $Y$ (output variable) as a function of $X$ (input variable) using neural networks. Here, $X$ are continuous and $Y$ can be continuous (*regression*) or discrete (*classification*). These 2 aspects are treated in the deep learning framework. Both linear and nonlinear cases will be covered in this lab session.\n",
    "\n",
    "We use the Keras Python library to implement deep learning architectures. This interface has the following characteristics:\n",
    "- it is developped for both *Tensorflow* and *Theano*\n",
    "- it can be applied to CPU or GPU without distinction\n",
    "- it can interact with classical machine learning libraries like *Scikit-learn*\n",
    "\n",
    "This lab session is an introduction. It gives you the general concepts of neural nets and helps you to implement them using a dedicated Python library. If you want to play with similar regression/classification examples in small dimensions, you can use http://playground.tensorflow.org/. For more details concerning Keras, please visit the documentation at https://keras.io/."
   ]
  },
  {
   "cell_type": "code",
   "execution_count": 1,
   "metadata": {},
   "outputs": [
    {
     "name": "stdout",
     "output_type": "stream",
     "text": [
      "Populating the interactive namespace from numpy and matplotlib\n"
     ]
    }
   ],
   "source": [
    "# Import libraries\n",
    "%matplotlib inline\n",
    "%pylab inline\n",
    "pylab.rcParams['figure.figsize']=(15,15)"
   ]
  },
  {
   "cell_type": "markdown",
   "metadata": {},
   "source": [
    "**Regression problems**\n",
    "\n",
    "Simple regression is a linear problem between continuous variables $X$ and $Y$. Here, we write the model $Y=2+0.5X$ and generate $Y$ using an additional Gaussian standard random noise."
   ]
  },
  {
   "cell_type": "code",
   "execution_count": 2,
   "metadata": {},
   "outputs": [
    {
     "data": {
      "text/plain": [
       "Text(0, 0.5, 'Y')"
      ]
     },
     "execution_count": 2,
     "metadata": {},
     "output_type": "execute_result"
    },
    {
     "data": {
      "image/png": "[encoded data removed]",
      "text/plain": [
       "<Figure size 432x288 with 1 Axes>"
      ]
     },
     "metadata": {
      "needs_background": "light"
     },
     "output_type": "display_data"
    }
   ],
   "source": [
    "# Generate data\n",
    "n=1000\n",
    "X=random.uniform(-10,10,n)\n",
    "Y_true=2+0.5*X # true model\n",
    "Y=Y_true+random.normal(0,1,n) # add noise to the truth\n",
    "plot(X,Y,'b.')\n",
    "\n",
    "# Plot noisy data and true model\n",
    "plot(X,Y,'b.')\n",
    "plot(X,Y_true,'r.')\n",
    "xlabel('X')\n",
    "ylabel('Y')"
   ]
  },
  {
   "cell_type": "markdown",
   "metadata": {},
   "source": [
    "Here, the objective is to build a neural net to fit the linear relationships between $X$ and $Y$. We use the mean absolute error as loss function and the stochastic gradient descent (sgd) algorithm for the optimization procedure. Then, we fit the model on a training dataset (80%) and we evaluate the performance of the model on a test dataset (20%). Finally, we plot the estimated parameters corresponding to the weights for each neurone."
   ]
  },
  {
   "cell_type": "code",
   "execution_count": null,
   "metadata": {
    "scrolled": true
   },
   "outputs": [
    {
     "name": "stderr",
     "output_type": "stream",
     "text": [
      "Using TensorFlow backend.\n"
     ]
    },
    {
     "name": "stdout",
     "output_type": "stream",
     "text": [
      "WARNING:tensorflow:From /usr/local/lib/python3.6/dist-packages/tensorflow/python/framework/op_def_library.py:263: colocate_with (from tensorflow.python.framework.ops) is deprecated and will be removed in a future version.\n",
      "Instructions for updating:\n",
      "Colocations handled automatically by placer.\n",
      "WARNING:tensorflow:From /usr/local/lib/python3.6/dist-packages/tensorflow/python/ops/math_ops.py:3066: to_int32 (from tensorflow.python.ops.math_ops) is deprecated and will be removed in a future version.\n",
      "Instructions for updating:\n",
      "Use tf.cast instead.\n",
      "Train on 800 samples, validate on 200 samples\n",
      "Epoch 1/100\n",
      "800/800 [==============================] - 0s 195us/step - loss: 1.7433 - val_loss: 0.9353\n",
      "Epoch 2/100\n",
      "800/800 [==============================] - 0s 37us/step - loss: 0.9022 - val_loss: 0.8402\n",
      "Epoch 3/100\n",
      "800/800 [==============================] - 0s 34us/step - loss: 0.8167 - val_loss: 0.8421\n",
      "Epoch 4/100\n",
      "800/800 [==============================] - 0s 31us/step - loss: 0.7983 - val_loss: 0.8301\n",
      "Epoch 5/100\n",
      "800/800 [==============================] - 0s 36us/step - loss: 0.8058 - val_loss: 0.8311\n",
      "Epoch 6/100\n",
      "800/800 [==============================] - 0s 30us/step - loss: 0.8000 - val_loss: 0.8598\n",
      "Epoch 7/100\n",
      "800/800 [==============================] - 0s 41us/step - loss: 0.7887 - val_loss: 0.8328\n",
      "Epoch 8/100\n",
      "800/800 [==============================] - 0s 40us/step - loss: 0.7806 - val_loss: 0.8289\n",
      "Epoch 9/100\n",
      "800/800 [==============================] - 0s 37us/step - loss: 0.7837 - val_loss: 0.8509\n",
      "Epoch 10/100\n",
      "800/800 [==============================] - 0s 33us/step - loss: 0.7789 - val_loss: 0.8495\n",
      "Epoch 11/100\n",
      "800/800 [==============================] - 0s 34us/step - loss: 0.7797 - val_loss: 0.8368\n",
      "Epoch 12/100\n",
      "800/800 [==============================] - 0s 37us/step - loss: 0.7851 - val_loss: 0.8314\n",
      "Epoch 13/100\n",
      "800/800 [==============================] - 0s 44us/step - loss: 0.7842 - val_loss: 0.8292\n",
      "Epoch 14/100\n",
      "800/800 [==============================] - 0s 38us/step - loss: 0.7775 - val_loss: 0.8322\n",
      "Epoch 15/100\n",
      "800/800 [==============================] - 0s 35us/step - loss: 0.7749 - val_loss: 0.8447\n",
      "Epoch 16/100\n",
      "800/800 [==============================] - 0s 33us/step - loss: 0.7757 - val_loss: 0.8296\n",
      "Epoch 17/100\n",
      "800/800 [==============================] - 0s 38us/step - loss: 0.7821 - val_loss: 0.8422\n",
      "Epoch 18/100\n",
      "800/800 [==============================] - 0s 23us/step - loss: 0.7744 - val_loss: 0.8298\n",
      "Epoch 19/100\n",
      "800/800 [==============================] - 0s 34us/step - loss: 0.7718 - val_loss: 0.8354\n",
      "Epoch 20/100\n",
      "800/800 [==============================] - 0s 32us/step - loss: 0.7802 - val_loss: 0.8306\n",
      "Epoch 21/100\n",
      "800/800 [==============================] - 0s 33us/step - loss: 0.7728 - val_loss: 0.8294\n",
      "Epoch 22/100\n",
      "800/800 [==============================] - 0s 29us/step - loss: 0.7780 - val_loss: 0.8319\n",
      "Epoch 23/100\n",
      "800/800 [==============================] - 0s 31us/step - loss: 0.7723 - val_loss: 0.8346\n",
      "Epoch 24/100\n",
      "800/800 [==============================] - 0s 30us/step - loss: 0.7780 - val_loss: 0.8288\n",
      "Epoch 25/100\n",
      "800/800 [==============================] - 0s 32us/step - loss: 0.7744 - val_loss: 0.8340\n",
      "Epoch 26/100\n",
      "800/800 [==============================] - 0s 35us/step - loss: 0.7771 - val_loss: 0.8339\n",
      "Epoch 27/100\n",
      "800/800 [==============================] - 0s 34us/step - loss: 0.7735 - val_loss: 0.8338\n",
      "Epoch 28/100\n",
      "800/800 [==============================] - 0s 40us/step - loss: 0.7743 - val_loss: 0.8399\n",
      "Epoch 29/100\n",
      "800/800 [==============================] - 0s 35us/step - loss: 0.7781 - val_loss: 0.8303\n",
      "Epoch 30/100\n",
      "800/800 [==============================] - 0s 38us/step - loss: 0.7745 - val_loss: 0.8333\n",
      "Epoch 31/100\n",
      "800/800 [==============================] - 0s 34us/step - loss: 0.7746 - val_loss: 0.8427\n",
      "Epoch 32/100\n",
      "800/800 [==============================] - 0s 42us/step - loss: 0.7761 - val_loss: 0.8347\n",
      "Epoch 33/100\n",
      "800/800 [==============================] - 0s 39us/step - loss: 0.7748 - val_loss: 0.8336\n",
      "Epoch 34/100\n",
      "800/800 [==============================] - 0s 43us/step - loss: 0.7744 - val_loss: 0.8364\n",
      "Epoch 35/100\n",
      "800/800 [==============================] - 0s 49us/step - loss: 0.7736 - val_loss: 0.8334\n",
      "Epoch 36/100\n",
      "800/800 [==============================] - 0s 35us/step - loss: 0.7773 - val_loss: 0.8312\n",
      "Epoch 37/100\n",
      "800/800 [==============================] - 0s 42us/step - loss: 0.7740 - val_loss: 0.8322\n",
      "Epoch 38/100\n",
      "800/800 [==============================] - 0s 31us/step - loss: 0.7740 - val_loss: 0.8389\n",
      "Epoch 39/100\n",
      "800/800 [==============================] - 0s 30us/step - loss: 0.7734 - val_loss: 0.8304\n",
      "Epoch 40/100\n",
      "800/800 [==============================] - 0s 29us/step - loss: 0.7733 - val_loss: 0.8345\n",
      "Epoch 41/100\n",
      "800/800 [==============================] - 0s 26us/step - loss: 0.7749 - val_loss: 0.8353\n",
      "Epoch 42/100\n",
      "800/800 [==============================] - 0s 37us/step - loss: 0.7728 - val_loss: 0.8352\n",
      "Epoch 43/100\n",
      "800/800 [==============================] - 0s 33us/step - loss: 0.7730 - val_loss: 0.8327\n",
      "Epoch 44/100\n",
      "800/800 [==============================] - 0s 30us/step - loss: 0.7731 - val_loss: 0.8290\n",
      "Epoch 45/100\n",
      "800/800 [==============================] - 0s 36us/step - loss: 0.7741 - val_loss: 0.8296\n",
      "Epoch 46/100\n",
      "800/800 [==============================] - 0s 31us/step - loss: 0.7720 - val_loss: 0.8295\n",
      "Epoch 47/100\n",
      "800/800 [==============================] - 0s 29us/step - loss: 0.7732 - val_loss: 0.8310\n",
      "Epoch 48/100\n",
      "800/800 [==============================] - 0s 27us/step - loss: 0.7732 - val_loss: 0.8293\n",
      "Epoch 49/100\n",
      "800/800 [==============================] - 0s 29us/step - loss: 0.7723 - val_loss: 0.8324\n",
      "Epoch 50/100\n",
      "800/800 [==============================] - 0s 35us/step - loss: 0.7766 - val_loss: 0.8326\n",
      "Epoch 51/100\n",
      "800/800 [==============================] - 0s 41us/step - loss: 0.7742 - val_loss: 0.8374\n",
      "Epoch 52/100\n",
      "800/800 [==============================] - 0s 34us/step - loss: 0.7727 - val_loss: 0.8292\n",
      "Epoch 53/100\n",
      "800/800 [==============================] - 0s 28us/step - loss: 0.7732 - val_loss: 0.8367\n",
      "Epoch 54/100\n",
      "800/800 [==============================] - 0s 26us/step - loss: 0.7740 - val_loss: 0.8342\n",
      "Epoch 55/100\n",
      "800/800 [==============================] - 0s 39us/step - loss: 0.7727 - val_loss: 0.8293\n",
      "Epoch 56/100\n",
      "800/800 [==============================] - 0s 36us/step - loss: 0.7733 - val_loss: 0.8307\n",
      "Epoch 57/100\n",
      "800/800 [==============================] - 0s 29us/step - loss: 0.7718 - val_loss: 0.8294\n",
      "Epoch 58/100\n",
      "800/800 [==============================] - 0s 32us/step - loss: 0.7710 - val_loss: 0.8340\n",
      "Epoch 59/100\n",
      "800/800 [==============================] - 0s 30us/step - loss: 0.7723 - val_loss: 0.8298\n",
      "Epoch 60/100\n",
      "800/800 [==============================] - 0s 36us/step - loss: 0.7730 - val_loss: 0.8301\n",
      "Epoch 61/100\n",
      "800/800 [==============================] - 0s 42us/step - loss: 0.7741 - val_loss: 0.8310\n",
      "Epoch 62/100\n",
      "800/800 [==============================] - 0s 53us/step - loss: 0.7723 - val_loss: 0.8300\n",
      "Epoch 63/100\n",
      "800/800 [==============================] - 0s 27us/step - loss: 0.7754 - val_loss: 0.8298\n",
      "Epoch 64/100\n",
      "800/800 [==============================] - 0s 31us/step - loss: 0.7733 - val_loss: 0.8290\n",
      "Epoch 65/100\n",
      "800/800 [==============================] - 0s 50us/step - loss: 0.7737 - val_loss: 0.8361\n",
      "Epoch 66/100\n",
      "800/800 [==============================] - 0s 44us/step - loss: 0.7733 - val_loss: 0.8293\n",
      "Epoch 67/100\n",
      "800/800 [==============================] - 0s 37us/step - loss: 0.7725 - val_loss: 0.8304\n",
      "Epoch 68/100\n",
      "800/800 [==============================] - 0s 53us/step - loss: 0.7730 - val_loss: 0.8320\n",
      "Epoch 69/100\n",
      "800/800 [==============================] - 0s 39us/step - loss: 0.7727 - val_loss: 0.8328\n",
      "Epoch 70/100\n",
      " 32/800 [>.............................] - ETA: 0s - loss: 0.6880"
     ]
    }
   ],
   "source": [
    "# Import deep learning library\n",
    "from keras.models import Sequential\n",
    "from keras.layers.core import Activation, Dense\n",
    "from keras.optimizers import SGD, Adam\n",
    "\n",
    "# Build our model\n",
    "model_regress1 = Sequential()\n",
    " \n",
    "# Declare the layers\n",
    "layers = [Dense(units=1, input_dim=1), Activation('linear')]\n",
    " \n",
    "# Add the layers to the model\n",
    "for layer in layers:\n",
    "    model_regress1.add(layer)\n",
    "\n",
    "# Configure an optimizer used to minimize the loss function\n",
    "sgd = SGD(lr=0.1, decay=.01)\n",
    "\n",
    "# Compile our model\n",
    "model_regress1.compile(loss='mean_absolute_error', optimizer=sgd)\n",
    " \n",
    "# Fit the model\n",
    "model_regress1.fit(X, Y, validation_split=0.2, epochs=100)\n",
    "\n",
    "# Model summary and weights\n",
    "model_regress1.get_weights() # model_regress1.layers[0].get_weights()"
   ]
  },
  {
   "cell_type": "markdown",
   "metadata": {},
   "source": [
    "We can see that the estimated parameters are closed to the true ones ($2$ for the intercept and $0.5$ for the slope). Below, we plot the true model (red) and the estimated one (green)."
   ]
  },
  {
   "cell_type": "code",
   "execution_count": null,
   "metadata": {},
   "outputs": [],
   "source": [
    "# Make prediction using the model\n",
    "Y_hat = model_regress1.predict(X)\n",
    "\n",
    "# Plot noisy data, true model and prediction\n",
    "plot(X,Y,'b.')\n",
    "plot(X,Y_true,'r.',linewidth=2)\n",
    "plot(X,Y_hat,'g.',linewidth=2)\n",
    "xlabel('X')\n",
    "ylabel('Y')"
   ]
  },
  {
   "cell_type": "markdown",
   "metadata": {},
   "source": [
    "Now, let us consider a model where for a same input variable $X$, we associate 2 output variables $Y_0$ and $Y_1$ defined by $Y_0=2+0.5X$ and $Y_1=-2-0.5X$. As previously, we use Gaussian additive noises to generate $Y_0$ and $Y_1$."
   ]
  },
  {
   "cell_type": "code",
   "execution_count": null,
   "metadata": {},
   "outputs": [],
   "source": [
    "# Generate data\n",
    "n=1000\n",
    "X=random.uniform(-10,10,n)\n",
    "Y0_true=2+0.5*X # true model\n",
    "Y0=Y0_true+random.normal(0,1,n) # add noise\n",
    "Y1_true=-2-0.5*X # true model\n",
    "Y1=Y1_true+random.normal(0,1,n) # add noise\n",
    "Y_true=vstack([Y0_true,Y1_true]).T\n",
    "Y=vstack([Y0,Y1]).T\n",
    "\n",
    "# Plot noisy data and true model\n",
    "plot(X,Y,'b.')\n",
    "plot(X,Y_true,'r.')\n",
    "xlabel('X')\n",
    "ylabel('Y')"
   ]
  },
  {
   "cell_type": "markdown",
   "metadata": {},
   "source": [
    "Here we modify the hidden layer to account for the 2 output variables $Y_0$ et $Y_1$."
   ]
  },
  {
   "cell_type": "code",
   "execution_count": null,
   "metadata": {
    "scrolled": true
   },
   "outputs": [],
   "source": [
    "# Build our model\n",
    "model_regress2 = Sequential()\n",
    "\n",
    "# Declare the layers\n",
    "layers = [Dense(units=2,input_dim=1), Activation('linear')]\n",
    "\n",
    "# Add the layers to the model\n",
    "for layer in layers:\n",
    "    model_regress2.add(layer)\n",
    "    \n",
    "# Configure an optimizer used to minimize the loss function\n",
    "sgd = SGD(lr=0.1, decay=.01)\n",
    "\n",
    "# Compile our model\n",
    "model_regress2.compile(loss='mean_absolute_error', optimizer=sgd)\n",
    " \n",
    "# Fit the model\n",
    "model_regress2.fit(X, Y, validation_split=0.2, epochs=100)\n",
    "                   \n",
    "# Model weights\n",
    "model_regress2.get_weights()"
   ]
  },
  {
   "cell_type": "markdown",
   "metadata": {},
   "source": [
    "We then compare the fitted (green) and true (red) models."
   ]
  },
  {
   "cell_type": "code",
   "execution_count": null,
   "metadata": {},
   "outputs": [],
   "source": [
    "# Make prediction using the model\n",
    "Y_hat = model_regress2.predict(X)\n",
    "\n",
    "# Plot train, test and hat\n",
    "plot(X,Y,'b.')\n",
    "plot(X,Y_true,'.r',linewidth=2)\n",
    "plot(X,Y_hat,'.g',linewidth=2)\n",
    "xlabel('X')\n",
    "ylabel('Y')"
   ]
  },
  {
   "cell_type": "markdown",
   "metadata": {},
   "source": [
    "**Classification problems**\n",
    "\n",
    "In a classification problem, $Y$ is a discrete variable with various classes. Here, $Y$ is binary and takes its values between $0$ and $1$. We write the model as $Y=f\\left(2+0.5 X\\right)$ with $f$ the logistic transfer function (sigmoid). As previously we generate $Y$ adding Gaussian perturbations."
   ]
  },
  {
   "cell_type": "code",
   "execution_count": null,
   "metadata": {},
   "outputs": [],
   "source": [
    "# Generate data\n",
    "n=1000\n",
    "X=random.uniform(-14,8,n)\n",
    "Y_true=1/(1+exp(-(2+0.5*X))) # true model\n",
    "Y_noise=1/(1+exp(-(2+0.5*X+random.normal(0,1,n)))) # add noise to the truth\n",
    "Y=(Y_noise>0.5).astype(float) # transform to binary data\n",
    "\n",
    "# Plot true model and noisy data\n",
    "plot(X,Y_true,'r.')\n",
    "plot(X,Y_noise,'g.')\n",
    "plot(X,Y,'b.')\n",
    "xlabel('X')\n",
    "ylabel('Y')"
   ]
  },
  {
   "cell_type": "markdown",
   "metadata": {},
   "source": [
    "We build our neural net using a sigmoid activation function, corresponding to the logistic function. For such a classification problem, we try to minimize a loss function based on the binary cross-entropy."
   ]
  },
  {
   "cell_type": "code",
   "execution_count": null,
   "metadata": {
    "scrolled": true
   },
   "outputs": [],
   "source": [
    "# Build our model\n",
    "model_classif1 = Sequential()\n",
    "\n",
    "# Declare the layers\n",
    "layers = [Dense(units=1, input_dim=1), Activation('sigmoid')]\n",
    " \n",
    "# Add the layers to the model\n",
    "for layer in layers:\n",
    "    model_classif1.add(layer)\n",
    "    \n",
    "# Configure an optimizer used to minimize the loss function\n",
    "sgd = SGD(lr=0.1, decay=.01)\n",
    "\n",
    "# Compile our model\n",
    "model_classif1.compile(loss='binary_crossentropy', optimizer=sgd)\n",
    " \n",
    "# Fit the model\n",
    "model_classif1.fit(X, Y, validation_split=0.2, epochs=10)\n",
    "\n",
    "# Model weights\n",
    "model_classif1.get_weights()"
   ]
  },
  {
   "cell_type": "markdown",
   "metadata": {},
   "source": [
    "The estimated weights can be far from the true parameters ($0.5$ and $2$). To improve the estimation, we can increase the database (*n* in the above code) and the number of iterations to fit the model (*epochs* in the *fit* function). Then, we plot the true (red) and estimated (green) classification models."
   ]
  },
  {
   "cell_type": "code",
   "execution_count": null,
   "metadata": {},
   "outputs": [],
   "source": [
    "# Make prediction using the model\n",
    "Y_hat = model_classif1.predict(X)\n",
    "\n",
    "# Plot noisy data, true model and prediction\n",
    "plot(X,Y,'b.')\n",
    "plot(X,Y_true,'r.')\n",
    "plot(X,Y_hat,'g.')"
   ]
  },
  {
   "cell_type": "markdown",
   "metadata": {},
   "source": [
    "Now, let us consider a more complicated classification model where we have 2 input variables ($X_0$, $X_1$) and a binary output variable $Y$. The link between the $X$ variables and $Y$ is nonlinear (moon shape)."
   ]
  },
  {
   "cell_type": "code",
   "execution_count": null,
   "metadata": {},
   "outputs": [],
   "source": [
    "# Import machine learning library\n",
    "from sklearn.datasets import make_moons\n",
    "\n",
    "# Generate data\n",
    "n=1000\n",
    "X_true,Y_true=make_moons(noise=0.00001,random_state=0,n_samples=n) # true model\n",
    "X,Y=make_moons(noise=0.2,random_state=0,n_samples=n) # noisy data\n",
    "\n",
    "# Plot true model and noisy data\n",
    "scatter(X[:,0], X[:,1], c=Y)\n",
    "scatter(X_true[:,0], X_true[:,1], c=Y_true)\n",
    "xlabel('X_0')\n",
    "ylabel('X_1')"
   ]
  },
  {
   "cell_type": "markdown",
   "metadata": {},
   "source": [
    "Try first to adjust a simple neural net with 1 hidden layer, 1 neurone and a logistic loss function. Then, test \n",
    "a more complex network with 3 hidden layers and relu (rectified linear unit) activations. For more information concerning the different activation functions, please see https://fr.wikipedia.org/wiki/Fonction_d'activation#cite_note-7. We stock the fitted model in the variable *history*."
   ]
  },
  {
   "cell_type": "code",
   "execution_count": null,
   "metadata": {},
   "outputs": [],
   "source": [
    "# Build our model\n",
    "model_classif2 = Sequential()\n",
    " \n",
    "# Declare the layers\n",
    "layers = [Dense(units=1, input_dim=2), Activation('sigmoid')] # try this one first\n",
    "#layers = [Dense(units=4, input_dim=2), Activation('relu'), # then this one\n",
    "#          Dense(units=4, input_dim=4), Activation('relu'),\n",
    "#          Dense(units=1, input_dim=4), Activation('sigmoid')]\n",
    "\n",
    "# Add the layers to the model\n",
    "for layer in layers:\n",
    "    model_classif2.add(layer)\n",
    "    \n",
    "# Configure an optimizer used to minimize the loss function\n",
    "sgd = SGD(lr=0.1, decay=.01) # try this one first\n",
    "adam = Adam(lr=0.001, beta_1=0.9, beta_2=0.999, epsilon=1e-08, decay=0.0)\n",
    "\n",
    "# Compile our model\n",
    "model_classif2.compile(loss='binary_crossentropy', optimizer=adam) # sgd or adam\n",
    " \n",
    "# Fit the model\n",
    "history = model_classif2.fit(X, Y, validation_split=0.2, epochs=1000, verbose=0)\n",
    "\n",
    "# Model weights\n",
    "model_classif2.get_weights()"
   ]
  },
  {
   "cell_type": "code",
   "execution_count": null,
   "metadata": {},
   "outputs": [],
   "source": [
    "# Make prediction using the model\n",
    "Y_hat = model_classif2.predict(X)\n",
    "\n",
    "# Plot noisy data, true model and prediction\n",
    "subplot(2,2,1)\n",
    "scatter(X[:,0], X[:,1], c=Y)\n",
    "scatter(X_true[:,0], X_true[:,1], c=Y_true)\n",
    "title('Noisy data and true model')\n",
    "subplot(2,2,2)\n",
    "scatter(X[:,0], X[:,1], c=Y_hat[:,0])\n",
    "scatter(X_true[:,0], X_true[:,1], c=Y_true)\n",
    "title('Noisy data and predictions')"
   ]
  },
  {
   "cell_type": "markdown",
   "metadata": {},
   "source": [
    "The predicted values (right) are given between $0$ (blue) and $1$ (red). The algorithm converges when the classification boundary is well defined between the 2 scatter plots. Finally, we can use the *history* variable and plot the evolution of the loss function for the training and test datasets."
   ]
  },
  {
   "cell_type": "code",
   "execution_count": null,
   "metadata": {},
   "outputs": [],
   "source": [
    "# Summarize history for loss\n",
    "plot(history.history['loss'])\n",
    "plot(history.history['val_loss'])\n",
    "ylabel('loss')\n",
    "xlabel('epoch')\n",
    "legend(['train', 'test'])"
   ]
  },
  {
   "cell_type": "markdown",
   "metadata": {},
   "source": [
    "**Classification problem on real data**\n",
    "\n",
    "Congratulations, you are now ready to apply regression or classification problems on real data. Here, we propose to use a well known dataset in statistic: *iris*. The output variable $y$ are different iris species (Setosa, Versicolour, Virginica) and input variables $x$ are the length/width of the sepal/petal. Try to construct your own neural net, learn it on a training dataset ($x_{train}$ and $x_{train}$, 80%) and test it on a independant test dataset ($x_{test}$ and $y_{test}$, 20%)."
   ]
  },
  {
   "cell_type": "code",
   "execution_count": null,
   "metadata": {},
   "outputs": [],
   "source": [
    "from sklearn import datasets\n",
    "# Load data\n",
    "iris = datasets.load_iris()\n",
    "X = iris.data\n",
    "Y = iris.target"
   ]
  }
 ],
 "metadata": {
  "anaconda-cloud": {},
  "description": "Use Caffe as a generic SGD optimizer to train logistic regression on non-image HDF5 data.",
  "example_name": "Off-the-shelf SGD for classification",
  "include_in_docs": true,
  "kernelspec": {
   "display_name": "Python 3",
   "language": "python",
   "name": "python3"
  },
  "language_info": {
   "codemirror_mode": {
    "name": "ipython",
    "version": 3
   },
   "file_extension": ".py",
   "mimetype": "text/x-python",
   "name": "python",
   "nbconvert_exporter": "python",
   "pygments_lexer": "ipython3",
   "version": "3.6.7"
  },
  "priority": 3
 },
 "nbformat": 4,
 "nbformat_minor": 1
}
